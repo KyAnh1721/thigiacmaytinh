{
 "cells": [
  {
   "cell_type": "code",
   "execution_count": 5,
   "id": "6a591ca2-5b6c-4841-9fa0-dac236514e54",
   "metadata": {},
   "outputs": [
    {
     "name": "stdout",
     "output_type": "stream",
     "text": [
      "Requirement already satisfied: scipy in c:\\users\\admin\\anaconda3\\lib\\site-packages (1.13.1)\n",
      "Requirement already satisfied: numpy<2.3,>=1.22.4 in c:\\users\\admin\\anaconda3\\lib\\site-packages (from scipy) (1.26.4)\n"
     ]
    }
   ],
   "source": [
    "!pip install scipy"
   ]
  },
  {
   "cell_type": "code",
   "execution_count": 7,
   "id": "7bfcc758-5b71-4137-a2d9-0f37611f038f",
   "metadata": {},
   "outputs": [],
   "source": [
    "from scipy import linalg\n",
    "import numpy as np"
   ]
  },
  {
   "cell_type": "code",
   "execution_count": 17,
   "id": "aaf5a923-2c8d-4493-9c2a-0608c450013d",
   "metadata": {},
   "outputs": [
    {
     "name": "stdout",
     "output_type": "stream",
     "text": [
      "Kết quả:  [ 3. -1.]\n"
     ]
    }
   ],
   "source": [
    "#ĐN Hệ PTTT\n",
    "A_new = np.array([[4, 2], [6, 4]])\n",
    "b_new = np.array([10, 14])\n",
    "\n",
    "# Giải Hệ PTTT\n",
    "x_new = linalg.solve(A_new, b_new)\n",
    "print(\"Kết quả: \", x_new)"
   ]
  },
  {
   "cell_type": "code",
   "execution_count": 21,
   "id": "832e04df-9e5f-414b-979d-b8c6e5cd842f",
   "metadata": {},
   "outputs": [
    {
     "name": "stdout",
     "output_type": "stream",
     "text": [
      "Tích phân của f(x) từ 1 tới 2 :  (3.7500000000000004, 4.1633363423443377e-14)\n"
     ]
    }
   ],
   "source": [
    "#Tínhtíchphân\n",
    "from scipy import integrate\n",
    "#Địnhghnĩa hàm f(x) = x^3\n",
    "def my_function(x):\n",
    "    return x**3 #x**3 là x mũ 3\n",
    "#tínhtíchphâncủaf(x)từ 1 tới 2\n",
    "integral = integrate.quad(my_function, 1, 2)\n",
    "print (\"Tích phân của f(x) từ 1 tới 2 : \",integral)"
   ]
  },
  {
   "cell_type": "code",
   "execution_count": null,
   "id": "7cc9374a-6793-40a2-8ebb-3a42228323e1",
   "metadata": {},
   "outputs": [],
   "source": []
  }
 ],
 "metadata": {
  "kernelspec": {
   "display_name": "Python 3 (ipykernel)",
   "language": "python",
   "name": "python3"
  },
  "language_info": {
   "codemirror_mode": {
    "name": "ipython",
    "version": 3
   },
   "file_extension": ".py",
   "mimetype": "text/x-python",
   "name": "python",
   "nbconvert_exporter": "python",
   "pygments_lexer": "ipython3",
   "version": "3.12.4"
  }
 },
 "nbformat": 4,
 "nbformat_minor": 5
}
