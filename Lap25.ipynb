{
 "cells": [
  {
   "cell_type": "code",
   "execution_count": 2,
   "id": "8b3c8608-ecd8-421e-8842-dd680ef9143c",
   "metadata": {},
   "outputs": [],
   "source": [
    "import cv2"
   ]
  },
  {
   "cell_type": "code",
   "execution_count": 4,
   "id": "99be3102-7d06-4172-a847-272d21258ee2",
   "metadata": {},
   "outputs": [],
   "source": [
    "def display(title, img):\n",
    "    cv2.imshow(title, img)\n",
    "    # Chờ một khoảng thời gian\n",
    "    cv2.waitKey(0)\n",
    "    # Đóng window\n",
    "    cv2.destroyWindow(title)"
   ]
  },
  {
   "cell_type": "code",
   "execution_count": 6,
   "id": "0eee29b6-e147-4ff0-a05d-a211c78fa51e",
   "metadata": {},
   "outputs": [],
   "source": [
    "# Khởi tạo Haar Cascade Classifier cho nhân diện khuôn mặt\n",
    "face_cascade = cv2.CascadeClassifier('./data/haarcascade_frontalface_default.xml')\n",
    "eye_cascade = cv2.CascadeClassifier('./data/haarcascade_eye_tree_eyeglasses.xml')"
   ]
  },
  {
   "cell_type": "code",
   "execution_count": 14,
   "id": "47bfde5a-a9e9-4951-a57e-225bc273b47f",
   "metadata": {},
   "outputs": [],
   "source": [
    "# Đọc ảnh\n",
    "img = cv2.imread('./data/image_1140.jpg')"
   ]
  },
  {
   "cell_type": "code",
   "execution_count": 16,
   "id": "20318e9b-b3eb-4cc8-a80a-d686cdc81d7a",
   "metadata": {},
   "outputs": [],
   "source": [
    "# Chuyển sang ảnh xám\n",
    "gray = cv2.cvtColor(img, cv2.COLOR_BGR2GRAY)"
   ]
  },
  {
   "cell_type": "code",
   "execution_count": 18,
   "id": "b6e0755d-b6bf-4991-9a76-92b78920b95e",
   "metadata": {},
   "outputs": [],
   "source": [
    "# Nhận diện khuôn mặt\n",
    "faces = face_cascade.detectMultiScale(gray, scaleFactor=1.1, minNeighbors=5, minSize=(30,30))"
   ]
  },
  {
   "cell_type": "code",
   "execution_count": 20,
   "id": "01dd7a4b-a94b-40b4-8cca-064ff0086220",
   "metadata": {},
   "outputs": [],
   "source": [
    "# Nhận diện mắt\n",
    "eyes = eye_cascade.detectMultiScale(gray, scaleFactor=1.1, minNeighbors=1, minSize=(5,5))"
   ]
  },
  {
   "cell_type": "code",
   "execution_count": 22,
   "id": "04f892da-bcdd-409c-99ef-42e57f5ee74e",
   "metadata": {},
   "outputs": [],
   "source": [
    "# Vẽ hộp chứa khuôn mặt\n",
    "for (x, y, w, h) in faces:\n",
    "    cv2.rectangle(img, (x, y), (x+w, y+h), (0, 255,0), 2)"
   ]
  },
  {
   "cell_type": "code",
   "execution_count": 24,
   "id": "d2b77a2f-1f34-4af8-9d33-0f9f99e10bce",
   "metadata": {},
   "outputs": [],
   "source": [
    "# Vẽ hộp chứa khuôn mặt\n",
    "for (x, y, w, h) in eyes:\n",
    "    cv2.rectangle(img, (x, y), (x+w, y+h), (255, 0,0), 2)"
   ]
  },
  {
   "cell_type": "code",
   "execution_count": 26,
   "id": "a3990be3-bbcc-47d9-a86f-1d81505d6a4e",
   "metadata": {},
   "outputs": [
    {
     "ename": "error",
     "evalue": "OpenCV(4.10.0) D:\\a\\opencv-python\\opencv-python\\opencv\\modules\\highgui\\src\\window_w32.cpp:1261: error: (-27:Null pointer) NULL window: 'Faces: ' in function 'cvDestroyWindow'\n",
     "output_type": "error",
     "traceback": [
      "\u001b[1;31m---------------------------------------------------------------------------\u001b[0m",
      "\u001b[1;31merror\u001b[0m                                     Traceback (most recent call last)",
      "Cell \u001b[1;32mIn[26], line 1\u001b[0m\n\u001b[1;32m----> 1\u001b[0m display(\u001b[38;5;124m'\u001b[39m\u001b[38;5;124mFaces: \u001b[39m\u001b[38;5;124m'\u001b[39m, img)\n",
      "Cell \u001b[1;32mIn[4], line 6\u001b[0m, in \u001b[0;36mdisplay\u001b[1;34m(title, img)\u001b[0m\n\u001b[0;32m      4\u001b[0m cv2\u001b[38;5;241m.\u001b[39mwaitKey(\u001b[38;5;241m0\u001b[39m)\n\u001b[0;32m      5\u001b[0m \u001b[38;5;66;03m# Đóng window\u001b[39;00m\n\u001b[1;32m----> 6\u001b[0m cv2\u001b[38;5;241m.\u001b[39mdestroyWindow(title)\n",
      "\u001b[1;31merror\u001b[0m: OpenCV(4.10.0) D:\\a\\opencv-python\\opencv-python\\opencv\\modules\\highgui\\src\\window_w32.cpp:1261: error: (-27:Null pointer) NULL window: 'Faces: ' in function 'cvDestroyWindow'\n"
     ]
    }
   ],
   "source": [
    "display('Faces: ', img)"
   ]
  },
  {
   "cell_type": "code",
   "execution_count": null,
   "id": "b9ab8b7e-7b9b-407e-a4da-022cb91d3951",
   "metadata": {},
   "outputs": [],
   "source": []
  }
 ],
 "metadata": {
  "kernelspec": {
   "display_name": "Python 3 (ipykernel)",
   "language": "python",
   "name": "python3"
  },
  "language_info": {
   "codemirror_mode": {
    "name": "ipython",
    "version": 3
   },
   "file_extension": ".py",
   "mimetype": "text/x-python",
   "name": "python",
   "nbconvert_exporter": "python",
   "pygments_lexer": "ipython3",
   "version": "3.12.4"
  }
 },
 "nbformat": 4,
 "nbformat_minor": 5
}
